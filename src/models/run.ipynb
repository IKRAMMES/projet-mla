{
 "cells": [
  {
   "cell_type": "code",
   "execution_count": null,
   "metadata": {},
   "outputs": [],
   "source": [
    "# Importing necessary modules and classes for the main script\n",
    "\n",
    "from decoder import Decoder  # Importing the Decoder module\n",
    "from decoderattn import Attention_Decoder  # Importing the Attention_Decoder module\n",
    "from encoder import Encoder  # Importing the Encoder module\n",
    "from evaluatemodel import MySeq2SeqModelEvaluation  # Importing the MySeq2SeqModelEvaluation class\n",
    "from train_with_batch import Seq2SeqTrainer  # Importing the Seq2SeqTrainer module with batch training\n",
    "from trainmodel import Seq2SeqTrainer  # Importing the Seq2SeqTrainer module for training\n",
    "from data_proc import *  # Importing necessary functions for data processing\n"
   ]
  },
  {
   "cell_type": "code",
   "execution_count": 15,
   "metadata": {},
   "outputs": [],
   "source": [
    "# Importing necessary modules for working with PyTorch and checking GPU availability\n",
    "\n",
    "import torch  # Importing PyTorch module\n",
    "from io import open  # Importing the 'open' function from the 'io' module\n",
    "\n",
    "use_cuda = torch.cuda.is_available()  # Checking if CUDA (GPU) is available\n"
   ]
  },
  {
   "cell_type": "code",
   "execution_count": 16,
   "metadata": {},
   "outputs": [],
   "source": [
    "# Setting constants for sequence processing and training\n",
    "\n",
    "start_token = 0  # Token representing the start of a sequence\n",
    "end_token = 1  # Token representing the end of a sequence\n",
    "max_length = 50  # Maximum length of a sequence\n",
    "num_epochs = 75000  # Number of training epochs\n"
   ]
  },
  {
   "cell_type": "code",
   "execution_count": 30,
   "metadata": {},
   "outputs": [
    {
     "name": "stdout",
     "output_type": "stream",
     "text": [
      "Reading lines...\n",
      "Form:  ['l or a . dollars l once ?', ' gold ?']\n",
      "Read 2000 sentence pairs\n",
      "Trimmed to 1837 sentence pairs\n",
      "Counting words...\n",
      "Counted words:\n",
      "eng 6924\n",
      "fra 6019\n"
     ]
    }
   ],
   "source": [
    "# Initializing data preparation and preparing language pairs\n",
    "\n",
    "data = DataPreparation('fra', 'eng', True)  # Creating a DataPreparation instance for French to English translation\n",
    "input_lang, output_lang, pairs = data.prepare_data(reverse=True)  # Preparing language pairs with reverse order\n",
    "\n"
   ]
  },
  {
   "cell_type": "code",
   "execution_count": 18,
   "metadata": {},
   "outputs": [],
   "source": [
    "# Setting hidden size and device, and initializing attention decoder and encoder\n",
    "\n",
    "hidden_size = 256  # Size of the hidden layer\n",
    "\n",
    "device = torch.device('cuda' if torch.cuda.is_available() else 'cpu')  # Checking and assigning the device (GPU or CPU)\n",
    "\n",
    "# Initializing Attention Decoder with specified parameters\n",
    "attn_decoder = Attention_Decoder(hidden_size, output_lang.n_words, max_length, dropoutP=0.1).to(device)\n",
    "\n",
    "# Initializing Encoder with specified parameters\n",
    "encoder = Encoder(input_size=input_lang.n_words, hidden_size=hidden_size, device=device).to(device)"
   ]
  },
  {
   "cell_type": "code",
   "execution_count": null,
   "metadata": {},
   "outputs": [
    {
     "ename": "",
     "evalue": "",
     "output_type": "error",
     "traceback": [
      "\u001b[1;31mThe Kernel crashed while executing code in the the current cell or a previous cell. Please review the code in the cell(s) to identify a possible cause of the failure. Click <a href='https://aka.ms/vscodeJupyterKernelCrash'>here</a> for more info. View Jupyter <a href='command:jupyter.viewOutput'>log</a> for further details."
     ]
    }
   ],
   "source": [
    "# Initializing Seq2SeqTrainer and performing custom training\n",
    "\n",
    "train = Seq2SeqTrainer(encoder, attn_decoder, max_length, start_token, end_token, input_lang, output_lang, device)\n",
    "\n",
    "# Performing custom training with specified parameters\n",
    "losses = train.custom_training_function(num_epochs, pairs, print_interval=5000, plot_interval=50, learning_rate=0.01)\n"
   ]
  },
  {
   "cell_type": "code",
   "execution_count": null,
   "metadata": {},
   "outputs": [],
   "source": [
    "# sauvegarde du modèle\n",
    "torch.save(encoder,\"encoder_bi.pt\")\n",
    "torch.save(attn_decoder,\"attn_decoder_bi.pt\")"
   ]
  },
  {
   "cell_type": "code",
   "execution_count": null,
   "metadata": {},
   "outputs": [],
   "source": [
    "# chargement du modèle\n",
    "encoder_loaded = torch.load(\"encoder_bi.pt\")\n",
    "attn_decoder_loaded = torch.load(\"attn_decoder_bi.pt\")"
   ]
  },
  {
   "cell_type": "code",
   "execution_count": null,
   "metadata": {},
   "outputs": [],
   "source": [
    "# Initializing MySeq2SeqModelEvaluation and evaluating randomly\n",
    "\n",
    "modele_evaluation = MySeq2SeqModelEvaluation(encoder_loaded, attn_decoder_loaded, max_length, input_lang, output_lang, start_token, end_token, device)\n",
    "\n",
    "# Evaluating the model randomly on the provided pairs\n",
    "modele_evaluation.evaluateRandomly(pairs)\n"
   ]
  },
  {
   "cell_type": "code",
   "execution_count": null,
   "metadata": {},
   "outputs": [],
   "source": [
    "# Generating output and attentions for a given input sentence\n",
    "output_words, attentions = modele_evaluation.forward(\"j'ai trop froid .\")\n",
    "print(output_words)"
   ]
  },
  {
   "cell_type": "code",
   "execution_count": null,
   "metadata": {},
   "outputs": [],
   "source": []
  }
 ],
 "metadata": {
  "kernelspec": {
   "display_name": "Python 3",
   "language": "python",
   "name": "python3"
  },
  "language_info": {
   "codemirror_mode": {
    "name": "ipython",
    "version": 3
   },
   "file_extension": ".py",
   "mimetype": "text/x-python",
   "name": "python",
   "nbconvert_exporter": "python",
   "pygments_lexer": "ipython3",
   "version": "3.11.5"
  },
  "orig_nbformat": 4
 },
 "nbformat": 4,
 "nbformat_minor": 2
}
