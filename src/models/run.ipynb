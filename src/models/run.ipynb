{
 "cells": [
  {
   "cell_type": "code",
   "execution_count": 11,
   "metadata": {},
   "outputs": [],
   "source": [
    "from decoder import Decoder\n",
    "from decoderattn import Attention_Decoder\n",
    "from encoder import Encoder\n",
    "from evaluatemodel import MySeq2SeqModelEvaluation\n",
    "from train_with_batch import Seq2SeqTrainer\n",
    "from trainmodel import Seq2SeqTrainer\n",
    "from data_proc import DataPreparation\n",
    "from data_proc import *\n"
   ]
  },
  {
   "cell_type": "code",
   "execution_count": 9,
   "metadata": {},
   "outputs": [],
   "source": [
    "import torch\n",
    "import random\n",
    "from io import open\n",
    "import unicodedata\n",
    "import string\n",
    "import re\n",
    "import random\n",
    "import pickle\n",
    "import numpy as np\n",
    "import math\n",
    "from mosestokenizer import *\n",
    "from collections import Counter\n",
    "\n",
    "import torch\n",
    "import torch.nn as nn\n",
    "from torch.autograd import Variable\n",
    "from torch import optim\n",
    "import torch.nn.functional as F\n",
    "\n",
    "use_cuda = torch.cuda.is_available()"
   ]
  },
  {
   "cell_type": "code",
   "execution_count": 23,
   "metadata": {},
   "outputs": [
    {
     "name": "stdout",
     "output_type": "stream",
     "text": [
      "Reading lines...\n",
      "Form:  ['l or a . dollars l once ?', ' gold ?']\n",
      "Read 2000 sentence pairs\n",
      "Trimmed to 1837 sentence pairs\n",
      "Counting words...\n",
      "Counted words:\n",
      "eng 6924\n",
      "fra 6019\n"
     ]
    },
    {
     "ename": "TypeError",
     "evalue": "DataPreparation.prepare_data() missing 1 required positional argument: 'lang2'",
     "output_type": "error",
     "traceback": [
      "\u001b[0;31m---------------------------------------------------------------------------\u001b[0m",
      "\u001b[0;31mTypeError\u001b[0m                                 Traceback (most recent call last)",
      "\u001b[1;32m/Users/nadia/Desktop/NEw/MLA_PROJET_NEW/projet-mla-4/src/models/run.ipynb Cellule 3\u001b[0m line \u001b[0;36m2\n\u001b[1;32m      <a href='vscode-notebook-cell:/Users/nadia/Desktop/NEw/MLA_PROJET_NEW/projet-mla-4/src/models/run.ipynb#W3sZmlsZQ%3D%3D?line=0'>1</a>\u001b[0m obj\u001b[39m=\u001b[39m DataPreparation(\u001b[39m'\u001b[39m\u001b[39mfra\u001b[39m\u001b[39m'\u001b[39m, \u001b[39m'\u001b[39m\u001b[39meng\u001b[39m\u001b[39m'\u001b[39m, \u001b[39mTrue\u001b[39;00m)\n\u001b[0;32m----> <a href='vscode-notebook-cell:/Users/nadia/Desktop/NEw/MLA_PROJET_NEW/projet-mla-4/src/models/run.ipynb#W3sZmlsZQ%3D%3D?line=1'>2</a>\u001b[0m input_lang, output_lang, pairs\u001b[39m=\u001b[39m obj\u001b[39m.\u001b[39;49mprepare_data(\u001b[39mTrue\u001b[39;49;00m)\n\u001b[1;32m      <a href='vscode-notebook-cell:/Users/nadia/Desktop/NEw/MLA_PROJET_NEW/projet-mla-4/src/models/run.ipynb#W3sZmlsZQ%3D%3D?line=2'>3</a>\u001b[0m \u001b[39m#input_lang, output_lang, pairs = data_prep.prepare_data('fra', 'eng', True)\u001b[39;00m\n\u001b[1;32m      <a href='vscode-notebook-cell:/Users/nadia/Desktop/NEw/MLA_PROJET_NEW/projet-mla-4/src/models/run.ipynb#W3sZmlsZQ%3D%3D?line=3'>4</a>\u001b[0m \u001b[39mprint\u001b[39m(output_lang)\n",
      "\u001b[0;31mTypeError\u001b[0m: DataPreparation.prepare_data() missing 1 required positional argument: 'lang2'"
     ]
    }
   ],
   "source": [
    "obj= DataPreparation('fra', 'eng', True)\n",
    "input_lang, output_lang, pairs= obj.prepare_data(reverse=True)\n",
    "#input_lang, output_lang, pairs = data_prep.prepare_data('fra', 'eng', True)\n",
    "print(output_lang)\n",
    "print(random.choice(pairs))"
   ]
  },
  {
   "cell_type": "code",
   "execution_count": null,
   "metadata": {},
   "outputs": [],
   "source": [
    "hidden_size = 256\n",
    "\n",
    "device = torch.device('cuda' if torch.cuda.is_available() else 'cpu')\n",
    "    \n",
    "attn_decoder1 = Attention_Decoder(hidden_size, output_lang.n_words, dropout_p=0.1).to(device)\n",
    "\n",
    "#encoder1 = EncoderRNN(input_dim = input_lang.n_words,emb_dim =256,enc_hid_dim = 1000, dec_hid_dim = 1000, dropout = 0.6) \n",
    "encoder1 = Encoder(input_size = input_lang.n_words, hidden_size = hidden_size).to(device)\n"
   ]
  }
 ],
 "metadata": {
  "kernelspec": {
   "display_name": "Python 3",
   "language": "python",
   "name": "python3"
  },
  "language_info": {
   "codemirror_mode": {
    "name": "ipython",
    "version": 3
   },
   "file_extension": ".py",
   "mimetype": "text/x-python",
   "name": "python",
   "nbconvert_exporter": "python",
   "pygments_lexer": "ipython3",
   "version": "3.11.5"
  },
  "orig_nbformat": 4
 },
 "nbformat": 4,
 "nbformat_minor": 2
}
