{
 "cells": [
  {
   "cell_type": "code",
   "execution_count": null,
   "metadata": {},
   "outputs": [],
   "source": [
    "from decoder import Decoder\n",
    "from decoderattn import Attention_Decoder\n",
    "from encoder import Encoder\n",
    "from evaluatemodel import MySeq2SeqModelEvaluation\n",
    "from train_with_batch import Seq2SeqTrainer\n",
    "from trainmodel import Seq2SeqTrainer\n",
    "from data_proc import *"
   ]
  },
  {
   "cell_type": "code",
   "execution_count": 15,
   "metadata": {},
   "outputs": [],
   "source": [
    "import torch\n",
    "from io import open\n",
    "import torch\n",
    "\n",
    "use_cuda = torch.cuda.is_available()"
   ]
  },
  {
   "cell_type": "code",
   "execution_count": 16,
   "metadata": {},
   "outputs": [],
   "source": [
    "start_token = 0\n",
    "end_token = 1\n",
    "max_length = 50\n",
    "num_epochs = 75000"
   ]
  },
  {
   "cell_type": "code",
   "execution_count": 30,
   "metadata": {},
   "outputs": [
    {
     "name": "stdout",
     "output_type": "stream",
     "text": [
      "Reading lines...\n",
      "Form:  ['l or a . dollars l once ?', ' gold ?']\n",
      "Read 2000 sentence pairs\n",
      "Trimmed to 1837 sentence pairs\n",
      "Counting words...\n",
      "Counted words:\n",
      "eng 6924\n",
      "fra 6019\n"
     ]
    }
   ],
   "source": [
    "obj= DataPreparation('fra', 'eng', True)\n",
    "input_lang, output_lang, pairs= obj.prepare_data(reverse=True)\n"
   ]
  },
  {
   "cell_type": "code",
   "execution_count": 18,
   "metadata": {},
   "outputs": [],
   "source": [
    "hidden_size = 256\n",
    "\n",
    "device = torch.device('cuda' if torch.cuda.is_available() else 'cpu')\n",
    "    \n",
    "attn_decoder = Attention_Decoder(hidden_size, output_lang.n_words, max_length , dropoutP=0.1).to(device)\n",
    "\n",
    "encoder = Encoder(input_size = input_lang.n_words, hidden_size = hidden_size, device = device).to(device)\n",
    "\n"
   ]
  },
  {
   "cell_type": "code",
   "execution_count": null,
   "metadata": {},
   "outputs": [
    {
     "ename": "",
     "evalue": "",
     "output_type": "error",
     "traceback": [
      "\u001b[1;31mThe Kernel crashed while executing code in the the current cell or a previous cell. Please review the code in the cell(s) to identify a possible cause of the failure. Click <a href='https://aka.ms/vscodeJupyterKernelCrash'>here</a> for more info. View Jupyter <a href='command:jupyter.viewOutput'>log</a> for further details."
     ]
    }
   ],
   "source": [
    "TRAIN1=Seq2SeqTrainer(encoder, attn_decoder, max_length, start_token, end_token,input_lang ,output_lang , device)\n",
    "losses=TRAIN1.custom_training_function(num_epochs, pairs, 5000, plot_interval=50, learning_rate=0.01)"
   ]
  },
  {
   "cell_type": "code",
   "execution_count": null,
   "metadata": {},
   "outputs": [],
   "source": [
    "# sauvegarde du modèle\n",
    "torch.save(encoder,\"encoder_bi.pt\")\n",
    "torch.save(attn_decoder,\"attn_decoder_bi.pt\")"
   ]
  },
  {
   "cell_type": "code",
   "execution_count": null,
   "metadata": {},
   "outputs": [],
   "source": [
    "# chargement du modèle\n",
    "encoder_loaded = torch.load(\"encoder_bi.pt\")\n",
    "attn_decoder_loaded = torch.load(\"attn_decoder_bi.pt\")"
   ]
  },
  {
   "cell_type": "code",
   "execution_count": null,
   "metadata": {},
   "outputs": [],
   "source": [
    "modele_evaluation=MySeq2SeqModelEvaluation(encoder_loaded, attn_decoder_loaded,  max_length, input_lang, output_lang, start_token, end_token, device)\n",
    "modele_evaluation.evaluateRandomly(pairs)"
   ]
  },
  {
   "cell_type": "code",
   "execution_count": null,
   "metadata": {},
   "outputs": [],
   "source": [
    "output_words, attentions = modele_evaluation.forward(\"j'ai trop froid .\")"
   ]
  },
  {
   "cell_type": "code",
   "execution_count": null,
   "metadata": {},
   "outputs": [],
   "source": [
    "print(output_words)"
   ]
  }
 ],
 "metadata": {
  "kernelspec": {
   "display_name": "Python 3",
   "language": "python",
   "name": "python3"
  },
  "language_info": {
   "codemirror_mode": {
    "name": "ipython",
    "version": 3
   },
   "file_extension": ".py",
   "mimetype": "text/x-python",
   "name": "python",
   "nbconvert_exporter": "python",
   "pygments_lexer": "ipython3",
   "version": "3.11.5"
  },
  "orig_nbformat": 4
 },
 "nbformat": 4,
 "nbformat_minor": 2
}
